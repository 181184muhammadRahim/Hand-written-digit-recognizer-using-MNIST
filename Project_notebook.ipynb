{
  "nbformat": 4,
  "nbformat_minor": 0,
  "metadata": {
    "colab": {
      "name": "Untitled5.ipynb",
      "provenance": [],
      "collapsed_sections": []
    },
    "kernelspec": {
      "name": "python3",
      "display_name": "Python 3"
    },
    "language_info": {
      "name": "python"
    }
  },
  "cells": [
    {
      "cell_type": "code",
      "metadata": {
        "id": "HyAXHcXEBeWc"
      },
      "source": [
        "from joblib.numpy_pickle_utils import xrange\n",
        "from sklearn.datasets import fetch_openml\n",
        "import numpy as np\n",
        "mnist = fetch_openml('mnist_784')\n",
        "x,y=mnist['data'],mnist['target']"
      ],
      "execution_count": 1,
      "outputs": []
    },
    {
      "cell_type": "code",
      "metadata": {
        "colab": {
          "base_uri": "https://localhost:8080/"
        },
        "id": "avu0ZgV5b5Qr",
        "outputId": "6557b607-14d4-488c-8dde-326d0f1d3647"
      },
      "source": [
        "model=Digit_Classifier(x,y,'sigmoid')"
      ],
      "execution_count": 549,
      "outputs": [
        {
          "output_type": "stream",
          "text": [
            "/usr/local/lib/python3.7/dist-packages/ipykernel_launcher.py:2: RuntimeWarning: overflow encountered in exp\n",
            "  \n"
          ],
          "name": "stderr"
        },
        {
          "output_type": "stream",
          "text": [
            "0.9773\n",
            "0.9841\n",
            "0.9543\n",
            "0.9353\n",
            "0.9504\n",
            "0.95\n",
            "0.9736\n",
            "0.9725\n",
            "0.9071\n",
            "0.9295\n"
          ],
          "name": "stdout"
        }
      ]
    },
    {
      "cell_type": "code",
      "metadata": {
        "colab": {
          "base_uri": "https://localhost:8080/"
        },
        "id": "UbxhxWN_HK_z",
        "outputId": "42360afc-c321-42c0-8419-4d1e871e940b"
      },
      "source": [
        "model1=Digit_Classifier(x,y,'tanh')"
      ],
      "execution_count": 555,
      "outputs": [
        {
          "output_type": "stream",
          "text": [
            "0.9679\n",
            "0.9821\n",
            "0.9321\n",
            "0.9375\n",
            "0.9508\n",
            "0.92\n",
            "0.9584\n",
            "0.9688\n",
            "0.9026\n",
            "0.8991\n"
          ],
          "name": "stdout"
        }
      ]
    },
    {
      "cell_type": "code",
      "metadata": {
        "colab": {
          "base_uri": "https://localhost:8080/"
        },
        "id": "PshO5HbiHChM",
        "outputId": "d934dcf3-7c09-4460-d9cc-5ffd7be27fb4"
      },
      "source": [
        "model1.predictor(x[60005])"
      ],
      "execution_count": 567,
      "outputs": [
        {
          "output_type": "stream",
          "text": [
            "1\n"
          ],
          "name": "stdout"
        }
      ]
    },
    {
      "cell_type": "code",
      "metadata": {
        "colab": {
          "base_uri": "https://localhost:8080/",
          "height": 35
        },
        "id": "XJAc1t2fIKmA",
        "outputId": "5f03e25d-9794-458d-ad97-17dc806cae6d"
      },
      "source": [
        "y[60005]"
      ],
      "execution_count": 568,
      "outputs": [
        {
          "output_type": "execute_result",
          "data": {
            "application/vnd.google.colaboratory.intrinsic+json": {
              "type": "string"
            },
            "text/plain": [
              "'1'"
            ]
          },
          "metadata": {
            "tags": []
          },
          "execution_count": 568
        }
      ]
    },
    {
      "cell_type": "code",
      "metadata": {
        "id": "RnXtCppi-_fv"
      },
      "source": [
        "class Digit_Classifier:\n",
        "  def __init__(self,x,y,f):\n",
        "    self.digits_locator=[]\n",
        "    for i in range(10):\n",
        "      self.digits_locator.append(Digit_Neuron())\n",
        "    self.active=f\n",
        "    for i in range(10):\n",
        "      x_training,y_training,x_test,y_test=data_maker(x,y,self.active,i)\n",
        "      self.digits_locator[i].learn_data(x_training,y_training,0.001,self.active,x_test,y_test,str(i))\n",
        "    \n",
        "  def predictor(self,x):\n",
        "    for i in range(10):\n",
        "      result=self.digits_locator[i].predict(x,self.active)\n",
        "      if result==1:\n",
        "        print(i)\n",
        "\n",
        "  def data_maker(x,y,activation,target_label):\n",
        "    option=np.zeros(2)\n",
        "    if activation=='sigmoid':\n",
        "      option[0]=0\n",
        "      option[1]=1\n",
        "    elif activation=='tanh':\n",
        "      option[0]=-1\n",
        "      option[1]=1\n",
        "    x_training=x[:60000]\n",
        "    y_training=y[:60000]\n",
        "    x_test=x[60000:]\n",
        "    y_test=y[60000:]\n",
        "    y_training = np.array(y_training).T\n",
        "    y_training=y_training.astype(str).astype(int)\n",
        "    for i in range(y_training.size):\n",
        "      if y_training[i]==target_label:\n",
        "         y_training[i]=option[1]\n",
        "      else:\n",
        "        y_training[i]=option[0]\n",
        "    return x_training,y_training,x_test,y_test\n",
        "  "
      ],
      "execution_count": 548,
      "outputs": []
    },
    {
      "cell_type": "code",
      "metadata": {
        "colab": {
          "base_uri": "https://localhost:8080/"
        },
        "id": "IXXyzBaQADUu",
        "outputId": "f162686a-5363-4369-f749-cc26f89508a0"
      },
      "source": [
        "for i in range(10):\n",
        "  print(i)"
      ],
      "execution_count": 501,
      "outputs": [
        {
          "output_type": "stream",
          "text": [
            "0\n",
            "1\n",
            "2\n",
            "3\n",
            "4\n",
            "5\n",
            "6\n",
            "7\n",
            "8\n",
            "9\n"
          ],
          "name": "stdout"
        }
      ]
    },
    {
      "cell_type": "code",
      "metadata": {
        "id": "4BzMLEcw4BCC"
      },
      "source": [
        "class Digit_Neuron:\n",
        "  def __init__(self):\n",
        "    self.arr=np.zeros(785)\n",
        "\n",
        "  def sigmoid(value):\n",
        "    z = 1/(1 + np.exp(-value))\n",
        "    return z\n",
        "\n",
        "  def sigmoid_derivative(x):\n",
        "    return sigmoid(x)*(1-sigmoid(x)) \n",
        "    \n",
        "  def classify(arr,weight,activation):\n",
        "    prd=np.dot(arr,weight[1:])+weight[0]\n",
        "    if activation=='sigmoid':\n",
        "      return sigmoid(prd)\n",
        "    elif activation=='tanh':\n",
        "      return tanh(prd)\n",
        "\n",
        "  def tanh(value):\n",
        "    return np.tanh(value)\n",
        "\n",
        "  def tanh_derivative(value):\n",
        "    return 1-(tanh(value)*tanh(value))\n",
        "\n",
        "  def predict(self,data,activation):\n",
        "    result=np.dot(data,self.arr[1:])+self.arr[0]\n",
        "    if activation=='sigmoid':\n",
        "      return (sigmoid(result))\n",
        "    elif activation=='tanh':\n",
        "      if result>=-9999999999:\n",
        "        return 1\n",
        "      else:\n",
        "        return 0\n",
        "  def accuracy_checker(arr,x_test,y_test,active,target_label):\n",
        "    counter=0\n",
        "    for i in range(y_test.size):\n",
        "      if predict(x_test[i],arr,active)==1 and y_test[i]==target_label:\n",
        "        counter+=1\n",
        "      elif predict(x_test[i],arr,active)==0 and y_test[i]!=target_label:\n",
        "        counter+=1\n",
        "    return (counter/y_test.size)\n",
        "  \n",
        "  def learn_data(self,x,t,learning_rate,activation,x_test,y_test,target):\n",
        "    result=np.zeros(self.arr.size)\n",
        "    counter=10\n",
        "    max=-1\n",
        "    while counter>0:\n",
        "      output=classify(x,self.arr,activation)\n",
        "      error=t-output\n",
        "      if activation=='sigmoid':\n",
        "        term=np.dot(x.T,error*sigmoid_derivative(output))\n",
        "        self.arr[1:]+=term\n",
        "        self.arr[0]+=(error*sigmoid_derivative(output)).sum()\n",
        "        val=accuracy_checker(self.arr,x_test,y_test,'sigmoid',target)\n",
        "        if max<val:\n",
        "          max=val\n",
        "          result[1:]=self.arr[1:]\n",
        "          result[0]=self.arr[0]\n",
        "      else:\n",
        "        term=np.dot(x.T,error*tanh_derivative(output))\n",
        "        self.arr[1:]+=term\n",
        "        self.arr[0]+=(error*tanh_derivative(output)).sum()\n",
        "        val=accuracy_checker(self.arr,x_test,y_test,'tanh',target)\n",
        "        if max<val:\n",
        "          max=val\n",
        "          result[1:]=self.arr[1:]\n",
        "          result[0]=self.arr[0]\n",
        "      counter=counter-1\n",
        "    self.arr[1:]=result[1:]\n",
        "    self.arr[0]=result[0]\n",
        "    print(accuracy_checker(self.arr,x_test,y_test,activation,target))\n",
        "\n"
      ],
      "execution_count": 502,
      "outputs": []
    }
  ]
}
